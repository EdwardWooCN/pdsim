{
 "metadata": {
  "name": ""
 },
 "nbformat": 3,
 "nbformat_minor": 0,
 "worksheets": [
  {
   "cells": [
    {
     "cell_type": "code",
     "collapsed": false,
     "input": [
      "!git clone https://github.com/ibell/pdsim"
     ],
     "language": "python",
     "metadata": {},
     "outputs": [
      {
       "output_type": "stream",
       "stream": "stderr",
       "text": [
        "Cloning into 'pdsim'...\n"
       ]
      }
     ],
     "prompt_number": 5
    },
    {
     "cell_type": "code",
     "collapsed": false,
     "input": [
      "!tree /F pdsim/PDSim"
     ],
     "language": "python",
     "metadata": {},
     "outputs": [
      {
       "output_type": "stream",
       "stream": "stdout",
       "text": [
        "Folder PATH listing for volume Windows7_OS\n",
        "Volume serial number is 00000002 8E2A:26D8\n",
        "C:\\USERS\\BELLI\\DOCUMENTS\\CODE\\PDSIM-GIT\\DOC\\PDSIM\\PDSIM\n",
        "\u00b3   __init__.py\n",
        "\u00b3   \n",
        "\u00c3\u00c4\u00c4\u00c4core\n",
        "\u00b3       Bearing coefficients.xlsx\n",
        "\u00b3       bearings.py\n",
        "\u00b3       callbacks.pxd\n",
        "\u00b3       callbacks.pyx\n",
        "\u00b3       containers.pxd\n",
        "\u00b3       containers.pyx\n",
        "\u00b3       core.py\n",
        "\u00b3       cycleintegrators.pxd\n",
        "\u00b3       cycleintegrators.pyx\n",
        "\u00b3       journal_bearing.py\n",
        "\u00b3       mobility.py\n",
        "\u00b3       motor.py\n",
        "\u00b3       _bearings.pyx\n",
        "\u00b3       _core.pxd\n",
        "\u00b3       _core.pyx\n",
        "\u00b3       __init__.py\n",
        "\u00b3       \n",
        "\u00c3\u00c4\u00c4\u00c4flow\n",
        "\u00b3       fanno.pyx\n",
        "\u00b3       flow.pxd\n",
        "\u00b3       flow.pyx\n",
        "\u00b3       flow_models.pxd\n",
        "\u00b3       flow_models.pyx\n",
        "\u00b3       __init__.py\n",
        "\u00b3       \n",
        "\u00c3\u00c4\u00c4\u00c4misc\n",
        "\u00b3   \u00b3   datatypes.pxd\n",
        "\u00b3   \u00b3   datatypes.pyx\n",
        "\u00b3   \u00b3   error_bar.py\n",
        "\u00b3   \u00b3   hdf5.py\n",
        "\u00b3   \u00b3   pickle.py\n",
        "\u00b3   \u00b3   polymath.pxd\n",
        "\u00b3   \u00b3   polymath.pyx\n",
        "\u00b3   \u00b3   polymath_sample.py\n",
        "\u00b3   \u00b3   scipylike.pyx\n",
        "\u00b3   \u00b3   solvers.py\n",
        "\u00b3   \u00b3   stl_utilities.pxd\n",
        "\u00b3   \u00b3   stl_utilities.pyx\n",
        "\u00b3   \u00b3   __init__.py\n",
        "\u00b3   \u00b3   \n",
        "\u00b3   \u00c0\u00c4\u00c4\u00c4clipper\n",
        "\u00b3           clipper.cpp\n",
        "\u00b3           clipper.hpp\n",
        "\u00b3           License.txt\n",
        "\u00b3           main.py\n",
        "\u00b3           pyclipper.pyx\n",
        "\u00b3           README\n",
        "\u00b3           setup.py\n",
        "\u00b3           __init__.py\n",
        "\u00b3           \n",
        "\u00c3\u00c4\u00c4\u00c4plot\n",
        "\u00b3       plots.py\n",
        "\u00b3       __init__.py\n",
        "\u00b3       \n",
        "\u00c3\u00c4\u00c4\u00c4recip\n",
        "\u00b3       core.py\n",
        "\u00b3       _recip.pxd\n",
        "\u00b3       _recip.pyx\n",
        "\u00b3       __init__.py\n",
        "\u00b3       \n",
        "\u00c0\u00c4\u00c4\u00c4scroll\n",
        "        common_scroll_geo.pxd\n",
        "        common_scroll_geo.pyx\n",
        "        core.py\n",
        "        expander.py\n",
        "        plots.py\n",
        "        scroll_geo.py\n",
        "        symm_scroll_geo.pxd\n",
        "        symm_scroll_geo.pyx\n",
        "        _scroll.pxd\n",
        "        _scroll.pyx\n",
        "        __init__.py\n",
        "        \n"
       ]
      }
     ],
     "prompt_number": 8
    },
    {
     "cell_type": "code",
     "collapsed": false,
     "input": [
      "import PDSim"
     ],
     "language": "python",
     "metadata": {},
     "outputs": [],
     "prompt_number": 1
    },
    {
     "cell_type": "code",
     "collapsed": false,
     "input": [
      "from PDSim.scroll.core import Scroll"
     ],
     "language": "python",
     "metadata": {},
     "outputs": [],
     "prompt_number": 5
    },
    {
     "cell_type": "code",
     "collapsed": false,
     "input": [
      "print Scroll?"
     ],
     "language": "python",
     "metadata": {},
     "outputs": [],
     "prompt_number": 10
    }
   ],
   "metadata": {}
  }
 ]
}